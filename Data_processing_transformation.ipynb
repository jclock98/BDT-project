{
 "cells": [
  {
   "cell_type": "code",
   "execution_count": 1,
   "metadata": {},
   "outputs": [],
   "source": [
    "import pandas as pd\n",
    "import numpy as np"
   ]
  },
  {
   "cell_type": "markdown",
   "metadata": {},
   "source": [
    "Immaginiamo di avere strutturato i dati di palestre, passi, squat, pushups, google trends, impianti sportivi per 100000 abitanti:"
   ]
  },
  {
   "cell_type": "markdown",
   "metadata": {},
   "source": [
    "SE NON SONO TUTTI ORDINATI ALLO STESSO MODO A LIVELLO DI REGIONI, TUTTI I DATASET VANNO ORDINATI IN ORDINE ALFABETICO IN BASE ALLA REGIONE, PER EVITARE CALCOLI SBAGLIATI (poi non so se userai query SQL, però credo sia bene averli ordinati alfabeticamente; vedi tu)"
   ]
  },
  {
   "cell_type": "code",
   "execution_count": 2,
   "metadata": {},
   "outputs": [],
   "source": [
    "#Loading simulated mobile apps data\n",
    "stepsdf = pd.read_csv(\"stepsaggregated.csv\")\n",
    "squatsdf = pd.read_csv(\"squatsaggregated.csv\")\n",
    "pushupsdf = pd.read_csv(\"pushupsaggregated.csv\")\n",
    "#Loading daily Google trends data (research interest in sport)\n",
    "googletrendsdf = pd.read_csv(\"researchinterestsport.csv\")\n"
   ]
  },
  {
   "cell_type": "code",
   "execution_count": 3,
   "metadata": {},
   "outputs": [],
   "source": [
    "#ACCESSI ALLE PALESTRE: DATAFRAME\n",
    "accessi = [i*5 for i in range(20)]\n",
    "np.random.shuffle(accessi)\n",
    "\n",
    "#generating a random accesses dataframe\n",
    "gymaccessesdf = pd.DataFrame((list(zip(stepsdf.region,accessi))))\n",
    "\n",
    "gymaccessesdf.columns = ['region','accesses']"
   ]
  },
  {
   "cell_type": "code",
   "execution_count": 4,
   "metadata": {},
   "outputs": [],
   "source": [
    "#IMPIANTI SPORTIVI OGNI 100000 ABITANTI: DATAFRAME\n",
    "#Simulazione casuale\n",
    "impianti = [i*5 for i in range(20)]\n",
    "np.random.shuffle(impianti)\n",
    "\n",
    "#generating a random accesses dataframe\n",
    "facilitiesper100k = pd.DataFrame((list(zip(stepsdf.region,impianti))))\n",
    "\n",
    "facilitiesper100k.columns = ['region','sport_facilities']"
   ]
  },
  {
   "cell_type": "markdown",
   "metadata": {},
   "source": [
    "Tutti questi dati verranno normalizzati. Intanto, ne salviamo una copia da lasciare non normalizzata:"
   ]
  },
  {
   "cell_type": "code",
   "execution_count": 5,
   "metadata": {},
   "outputs": [],
   "source": [
    "#Loading simulated mobile apps data\n",
    "stepsdfraw = pd.read_csv(\"stepsaggregated.csv\")\n",
    "squatsdfraw = pd.read_csv(\"squatsaggregated.csv\")\n",
    "pushupsdfraw = pd.read_csv(\"pushupsaggregated.csv\")\n",
    "#Loading daily Google trends data (research interest in sport)\n",
    "googletrendsdfraw = pd.read_csv(\"researchinterestsport.csv\")\n",
    "\n",
    "\n",
    "#Accessi palestre\n",
    "gymaccessesdfraw = pd.DataFrame((list(zip(stepsdf.region,accessi))))\n",
    "gymaccessesdfraw.columns = ['region','accesses']\n",
    "\n",
    "#Facilities\n",
    "#generating a random accesses dataframe\n",
    "facilitiesper100kraw = pd.DataFrame((list(zip(stepsdf.region,impianti))))\n",
    "\n",
    "facilitiesper100kraw.columns = ['region','sport_facilities']"
   ]
  },
  {
   "cell_type": "markdown",
   "metadata": {},
   "source": [
    "# Daily steps data\n",
    "I dati di squat e flessioni sono analoghi nella struttura"
   ]
  },
  {
   "cell_type": "code",
   "execution_count": 6,
   "metadata": {},
   "outputs": [
    {
     "data": {
      "text/html": [
       "<div>\n",
       "<style scoped>\n",
       "    .dataframe tbody tr th:only-of-type {\n",
       "        vertical-align: middle;\n",
       "    }\n",
       "\n",
       "    .dataframe tbody tr th {\n",
       "        vertical-align: top;\n",
       "    }\n",
       "\n",
       "    .dataframe thead th {\n",
       "        text-align: right;\n",
       "    }\n",
       "</style>\n",
       "<table border=\"1\" class=\"dataframe\">\n",
       "  <thead>\n",
       "    <tr style=\"text-align: right;\">\n",
       "      <th></th>\n",
       "      <th>region</th>\n",
       "      <th>steps</th>\n",
       "    </tr>\n",
       "  </thead>\n",
       "  <tbody>\n",
       "    <tr>\n",
       "      <th>0</th>\n",
       "      <td>Abruzzo</td>\n",
       "      <td>4379.75484</td>\n",
       "    </tr>\n",
       "    <tr>\n",
       "      <th>1</th>\n",
       "      <td>Basilicata</td>\n",
       "      <td>3230.39198</td>\n",
       "    </tr>\n",
       "    <tr>\n",
       "      <th>2</th>\n",
       "      <td>Calabria</td>\n",
       "      <td>3166.57721</td>\n",
       "    </tr>\n",
       "    <tr>\n",
       "      <th>3</th>\n",
       "      <td>Campania</td>\n",
       "      <td>2933.24814</td>\n",
       "    </tr>\n",
       "    <tr>\n",
       "      <th>4</th>\n",
       "      <td>Emilia-Romagna</td>\n",
       "      <td>5051.28323</td>\n",
       "    </tr>\n",
       "  </tbody>\n",
       "</table>\n",
       "</div>"
      ],
      "text/plain": [
       "           region       steps\n",
       "0         Abruzzo  4379.75484\n",
       "1      Basilicata  3230.39198\n",
       "2        Calabria  3166.57721\n",
       "3        Campania  2933.24814\n",
       "4  Emilia-Romagna  5051.28323"
      ]
     },
     "execution_count": 6,
     "metadata": {},
     "output_type": "execute_result"
    }
   ],
   "source": [
    "stepsdf.head()"
   ]
  },
  {
   "cell_type": "markdown",
   "metadata": {},
   "source": [
    "# Google trends data"
   ]
  },
  {
   "cell_type": "code",
   "execution_count": 7,
   "metadata": {},
   "outputs": [
    {
     "data": {
      "text/html": [
       "<div>\n",
       "<style scoped>\n",
       "    .dataframe tbody tr th:only-of-type {\n",
       "        vertical-align: middle;\n",
       "    }\n",
       "\n",
       "    .dataframe tbody tr th {\n",
       "        vertical-align: top;\n",
       "    }\n",
       "\n",
       "    .dataframe thead th {\n",
       "        text-align: right;\n",
       "    }\n",
       "</style>\n",
       "<table border=\"1\" class=\"dataframe\">\n",
       "  <thead>\n",
       "    <tr style=\"text-align: right;\">\n",
       "      <th></th>\n",
       "      <th>geoName</th>\n",
       "      <th>sport</th>\n",
       "    </tr>\n",
       "  </thead>\n",
       "  <tbody>\n",
       "    <tr>\n",
       "      <th>0</th>\n",
       "      <td>Abruzzo</td>\n",
       "      <td>86</td>\n",
       "    </tr>\n",
       "    <tr>\n",
       "      <th>1</th>\n",
       "      <td>Basilicata</td>\n",
       "      <td>80</td>\n",
       "    </tr>\n",
       "    <tr>\n",
       "      <th>2</th>\n",
       "      <td>Calabria</td>\n",
       "      <td>82</td>\n",
       "    </tr>\n",
       "    <tr>\n",
       "      <th>3</th>\n",
       "      <td>Campania</td>\n",
       "      <td>75</td>\n",
       "    </tr>\n",
       "    <tr>\n",
       "      <th>4</th>\n",
       "      <td>Emilia-Romagna</td>\n",
       "      <td>86</td>\n",
       "    </tr>\n",
       "  </tbody>\n",
       "</table>\n",
       "</div>"
      ],
      "text/plain": [
       "          geoName  sport\n",
       "0         Abruzzo     86\n",
       "1      Basilicata     80\n",
       "2        Calabria     82\n",
       "3        Campania     75\n",
       "4  Emilia-Romagna     86"
      ]
     },
     "execution_count": 7,
     "metadata": {},
     "output_type": "execute_result"
    }
   ],
   "source": [
    "googletrendsdf.head()"
   ]
  },
  {
   "cell_type": "markdown",
   "metadata": {},
   "source": [
    "# Gym accesses data (hypothesis)"
   ]
  },
  {
   "cell_type": "code",
   "execution_count": 8,
   "metadata": {},
   "outputs": [
    {
     "data": {
      "text/html": [
       "<div>\n",
       "<style scoped>\n",
       "    .dataframe tbody tr th:only-of-type {\n",
       "        vertical-align: middle;\n",
       "    }\n",
       "\n",
       "    .dataframe tbody tr th {\n",
       "        vertical-align: top;\n",
       "    }\n",
       "\n",
       "    .dataframe thead th {\n",
       "        text-align: right;\n",
       "    }\n",
       "</style>\n",
       "<table border=\"1\" class=\"dataframe\">\n",
       "  <thead>\n",
       "    <tr style=\"text-align: right;\">\n",
       "      <th></th>\n",
       "      <th>region</th>\n",
       "      <th>accesses</th>\n",
       "    </tr>\n",
       "  </thead>\n",
       "  <tbody>\n",
       "    <tr>\n",
       "      <th>0</th>\n",
       "      <td>Abruzzo</td>\n",
       "      <td>85</td>\n",
       "    </tr>\n",
       "    <tr>\n",
       "      <th>1</th>\n",
       "      <td>Basilicata</td>\n",
       "      <td>35</td>\n",
       "    </tr>\n",
       "    <tr>\n",
       "      <th>2</th>\n",
       "      <td>Calabria</td>\n",
       "      <td>25</td>\n",
       "    </tr>\n",
       "    <tr>\n",
       "      <th>3</th>\n",
       "      <td>Campania</td>\n",
       "      <td>55</td>\n",
       "    </tr>\n",
       "    <tr>\n",
       "      <th>4</th>\n",
       "      <td>Emilia-Romagna</td>\n",
       "      <td>75</td>\n",
       "    </tr>\n",
       "  </tbody>\n",
       "</table>\n",
       "</div>"
      ],
      "text/plain": [
       "           region  accesses\n",
       "0         Abruzzo        85\n",
       "1      Basilicata        35\n",
       "2        Calabria        25\n",
       "3        Campania        55\n",
       "4  Emilia-Romagna        75"
      ]
     },
     "execution_count": 8,
     "metadata": {},
     "output_type": "execute_result"
    }
   ],
   "source": [
    "gymaccessesdf.head()"
   ]
  },
  {
   "cell_type": "markdown",
   "metadata": {},
   "source": [
    "# Sport facilities accesses data (hypothesis)"
   ]
  },
  {
   "cell_type": "code",
   "execution_count": 9,
   "metadata": {},
   "outputs": [
    {
     "data": {
      "text/html": [
       "<div>\n",
       "<style scoped>\n",
       "    .dataframe tbody tr th:only-of-type {\n",
       "        vertical-align: middle;\n",
       "    }\n",
       "\n",
       "    .dataframe tbody tr th {\n",
       "        vertical-align: top;\n",
       "    }\n",
       "\n",
       "    .dataframe thead th {\n",
       "        text-align: right;\n",
       "    }\n",
       "</style>\n",
       "<table border=\"1\" class=\"dataframe\">\n",
       "  <thead>\n",
       "    <tr style=\"text-align: right;\">\n",
       "      <th></th>\n",
       "      <th>region</th>\n",
       "      <th>sport_facilities</th>\n",
       "    </tr>\n",
       "  </thead>\n",
       "  <tbody>\n",
       "    <tr>\n",
       "      <th>0</th>\n",
       "      <td>Abruzzo</td>\n",
       "      <td>70</td>\n",
       "    </tr>\n",
       "    <tr>\n",
       "      <th>1</th>\n",
       "      <td>Basilicata</td>\n",
       "      <td>65</td>\n",
       "    </tr>\n",
       "    <tr>\n",
       "      <th>2</th>\n",
       "      <td>Calabria</td>\n",
       "      <td>95</td>\n",
       "    </tr>\n",
       "    <tr>\n",
       "      <th>3</th>\n",
       "      <td>Campania</td>\n",
       "      <td>85</td>\n",
       "    </tr>\n",
       "    <tr>\n",
       "      <th>4</th>\n",
       "      <td>Emilia-Romagna</td>\n",
       "      <td>40</td>\n",
       "    </tr>\n",
       "  </tbody>\n",
       "</table>\n",
       "</div>"
      ],
      "text/plain": [
       "           region  sport_facilities\n",
       "0         Abruzzo                70\n",
       "1      Basilicata                65\n",
       "2        Calabria                95\n",
       "3        Campania                85\n",
       "4  Emilia-Romagna                40"
      ]
     },
     "execution_count": 9,
     "metadata": {},
     "output_type": "execute_result"
    }
   ],
   "source": [
    "facilitiesper100k.head()"
   ]
  },
  {
   "cell_type": "markdown",
   "metadata": {},
   "source": [
    "Come prima cosa li **normalizziamo** tutti, in scala 0-1:"
   ]
  },
  {
   "cell_type": "code",
   "execution_count": 10,
   "metadata": {},
   "outputs": [],
   "source": [
    "#Normalizing mobile apps data\n",
    "stepsdf['steps'] = (stepsdf['steps'] - min(stepsdf['steps'])) / (max(stepsdf['steps']) - min(stepsdf['steps']))\n",
    "squatsdf['squats'] = (squatsdf['squats'] - min(squatsdf['squats'])) / (max(squatsdf['squats']) - min(squatsdf['squats']))\n",
    "pushupsdf['pushups'] = (pushupsdf['pushups'] - min(pushupsdf['pushups'])) / (max(pushupsdf['pushups']) - min(pushupsdf['pushups']))\n",
    "\n",
    "\n",
    "#Rounding mobile apps data after normalization\n",
    "stepsdf['steps'] = round(stepsdf['steps'],2)\n",
    "squatsdf['squats']  = round(squatsdf['squats'],2)\n",
    "stepsdf['pushups'] = round(pushupsdf['pushups'],2)\n"
   ]
  },
  {
   "cell_type": "code",
   "execution_count": 11,
   "metadata": {},
   "outputs": [],
   "source": [
    "#Normalizing Google Trends data\n",
    "\n",
    "googletrendsdf['sport'] = (googletrendsdf['sport'] - min(googletrendsdf['sport'])) / (max(googletrendsdf['sport']) - min(googletrendsdf['sport']))\n",
    "\n",
    "googletrendsdf['sport'] = round(googletrendsdf['sport'],2)\n"
   ]
  },
  {
   "cell_type": "code",
   "execution_count": 12,
   "metadata": {},
   "outputs": [],
   "source": [
    "#Normalizing gym accesses data\n",
    "\n",
    "gymaccessesdf['accesses'] = (gymaccessesdf['accesses'] - min(gymaccessesdf['accesses'])) / (max(gymaccessesdf['accesses']) - min(gymaccessesdf['accesses']))\n",
    "gymaccessesdf['accesses'] = round(gymaccessesdf['accesses'],2)\n"
   ]
  },
  {
   "cell_type": "code",
   "execution_count": 13,
   "metadata": {},
   "outputs": [],
   "source": [
    "#Normalizing sport facilities data\n",
    "\n",
    "facilitiesper100k['sport_facilities'] = (facilitiesper100k['sport_facilities'] - min(facilitiesper100k['sport_facilities'])) / (max(facilitiesper100k['sport_facilities']) - min(facilitiesper100k['sport_facilities']))\n",
    "\n",
    "facilitiesper100k['sport_facilities'] = round(facilitiesper100k['sport_facilities'],2)\n"
   ]
  },
  {
   "cell_type": "markdown",
   "metadata": {},
   "source": [
    "# Normalized data:\n",
    "**SQUATS**"
   ]
  },
  {
   "cell_type": "code",
   "execution_count": 14,
   "metadata": {},
   "outputs": [
    {
     "data": {
      "text/html": [
       "<div>\n",
       "<style scoped>\n",
       "    .dataframe tbody tr th:only-of-type {\n",
       "        vertical-align: middle;\n",
       "    }\n",
       "\n",
       "    .dataframe tbody tr th {\n",
       "        vertical-align: top;\n",
       "    }\n",
       "\n",
       "    .dataframe thead th {\n",
       "        text-align: right;\n",
       "    }\n",
       "</style>\n",
       "<table border=\"1\" class=\"dataframe\">\n",
       "  <thead>\n",
       "    <tr style=\"text-align: right;\">\n",
       "      <th></th>\n",
       "      <th>region</th>\n",
       "      <th>squats</th>\n",
       "    </tr>\n",
       "  </thead>\n",
       "  <tbody>\n",
       "    <tr>\n",
       "      <th>0</th>\n",
       "      <td>Abruzzo</td>\n",
       "      <td>0.40</td>\n",
       "    </tr>\n",
       "    <tr>\n",
       "      <th>1</th>\n",
       "      <td>Basilicata</td>\n",
       "      <td>0.08</td>\n",
       "    </tr>\n",
       "    <tr>\n",
       "      <th>2</th>\n",
       "      <td>Calabria</td>\n",
       "      <td>0.04</td>\n",
       "    </tr>\n",
       "    <tr>\n",
       "      <th>3</th>\n",
       "      <td>Campania</td>\n",
       "      <td>0.00</td>\n",
       "    </tr>\n",
       "    <tr>\n",
       "      <th>4</th>\n",
       "      <td>Emilia-Romagna</td>\n",
       "      <td>0.60</td>\n",
       "    </tr>\n",
       "  </tbody>\n",
       "</table>\n",
       "</div>"
      ],
      "text/plain": [
       "           region  squats\n",
       "0         Abruzzo    0.40\n",
       "1      Basilicata    0.08\n",
       "2        Calabria    0.04\n",
       "3        Campania    0.00\n",
       "4  Emilia-Romagna    0.60"
      ]
     },
     "execution_count": 14,
     "metadata": {},
     "output_type": "execute_result"
    }
   ],
   "source": [
    "squatsdf.head()"
   ]
  },
  {
   "cell_type": "markdown",
   "metadata": {},
   "source": [
    "**GOOGLE TRENDS**"
   ]
  },
  {
   "cell_type": "code",
   "execution_count": 15,
   "metadata": {},
   "outputs": [
    {
     "data": {
      "text/html": [
       "<div>\n",
       "<style scoped>\n",
       "    .dataframe tbody tr th:only-of-type {\n",
       "        vertical-align: middle;\n",
       "    }\n",
       "\n",
       "    .dataframe tbody tr th {\n",
       "        vertical-align: top;\n",
       "    }\n",
       "\n",
       "    .dataframe thead th {\n",
       "        text-align: right;\n",
       "    }\n",
       "</style>\n",
       "<table border=\"1\" class=\"dataframe\">\n",
       "  <thead>\n",
       "    <tr style=\"text-align: right;\">\n",
       "      <th></th>\n",
       "      <th>geoName</th>\n",
       "      <th>sport</th>\n",
       "    </tr>\n",
       "  </thead>\n",
       "  <tbody>\n",
       "    <tr>\n",
       "      <th>0</th>\n",
       "      <td>Abruzzo</td>\n",
       "      <td>0.60</td>\n",
       "    </tr>\n",
       "    <tr>\n",
       "      <th>1</th>\n",
       "      <td>Basilicata</td>\n",
       "      <td>0.43</td>\n",
       "    </tr>\n",
       "    <tr>\n",
       "      <th>2</th>\n",
       "      <td>Calabria</td>\n",
       "      <td>0.49</td>\n",
       "    </tr>\n",
       "    <tr>\n",
       "      <th>3</th>\n",
       "      <td>Campania</td>\n",
       "      <td>0.29</td>\n",
       "    </tr>\n",
       "    <tr>\n",
       "      <th>4</th>\n",
       "      <td>Emilia-Romagna</td>\n",
       "      <td>0.60</td>\n",
       "    </tr>\n",
       "  </tbody>\n",
       "</table>\n",
       "</div>"
      ],
      "text/plain": [
       "          geoName  sport\n",
       "0         Abruzzo   0.60\n",
       "1      Basilicata   0.43\n",
       "2        Calabria   0.49\n",
       "3        Campania   0.29\n",
       "4  Emilia-Romagna   0.60"
      ]
     },
     "execution_count": 15,
     "metadata": {},
     "output_type": "execute_result"
    }
   ],
   "source": [
    "googletrendsdf.head()"
   ]
  },
  {
   "cell_type": "markdown",
   "metadata": {},
   "source": [
    "**SPORT FACILITIES**"
   ]
  },
  {
   "cell_type": "code",
   "execution_count": 16,
   "metadata": {},
   "outputs": [
    {
     "data": {
      "text/html": [
       "<div>\n",
       "<style scoped>\n",
       "    .dataframe tbody tr th:only-of-type {\n",
       "        vertical-align: middle;\n",
       "    }\n",
       "\n",
       "    .dataframe tbody tr th {\n",
       "        vertical-align: top;\n",
       "    }\n",
       "\n",
       "    .dataframe thead th {\n",
       "        text-align: right;\n",
       "    }\n",
       "</style>\n",
       "<table border=\"1\" class=\"dataframe\">\n",
       "  <thead>\n",
       "    <tr style=\"text-align: right;\">\n",
       "      <th></th>\n",
       "      <th>region</th>\n",
       "      <th>sport_facilities</th>\n",
       "    </tr>\n",
       "  </thead>\n",
       "  <tbody>\n",
       "    <tr>\n",
       "      <th>0</th>\n",
       "      <td>Abruzzo</td>\n",
       "      <td>0.74</td>\n",
       "    </tr>\n",
       "    <tr>\n",
       "      <th>1</th>\n",
       "      <td>Basilicata</td>\n",
       "      <td>0.68</td>\n",
       "    </tr>\n",
       "    <tr>\n",
       "      <th>2</th>\n",
       "      <td>Calabria</td>\n",
       "      <td>1.00</td>\n",
       "    </tr>\n",
       "    <tr>\n",
       "      <th>3</th>\n",
       "      <td>Campania</td>\n",
       "      <td>0.89</td>\n",
       "    </tr>\n",
       "    <tr>\n",
       "      <th>4</th>\n",
       "      <td>Emilia-Romagna</td>\n",
       "      <td>0.42</td>\n",
       "    </tr>\n",
       "  </tbody>\n",
       "</table>\n",
       "</div>"
      ],
      "text/plain": [
       "           region  sport_facilities\n",
       "0         Abruzzo              0.74\n",
       "1      Basilicata              0.68\n",
       "2        Calabria              1.00\n",
       "3        Campania              0.89\n",
       "4  Emilia-Romagna              0.42"
      ]
     },
     "execution_count": 16,
     "metadata": {},
     "output_type": "execute_result"
    }
   ],
   "source": [
    "facilitiesper100k.head()"
   ]
  },
  {
   "cell_type": "markdown",
   "metadata": {},
   "source": [
    "**GYM ACCESSES**"
   ]
  },
  {
   "cell_type": "code",
   "execution_count": 17,
   "metadata": {},
   "outputs": [
    {
     "data": {
      "text/html": [
       "<div>\n",
       "<style scoped>\n",
       "    .dataframe tbody tr th:only-of-type {\n",
       "        vertical-align: middle;\n",
       "    }\n",
       "\n",
       "    .dataframe tbody tr th {\n",
       "        vertical-align: top;\n",
       "    }\n",
       "\n",
       "    .dataframe thead th {\n",
       "        text-align: right;\n",
       "    }\n",
       "</style>\n",
       "<table border=\"1\" class=\"dataframe\">\n",
       "  <thead>\n",
       "    <tr style=\"text-align: right;\">\n",
       "      <th></th>\n",
       "      <th>region</th>\n",
       "      <th>accesses</th>\n",
       "    </tr>\n",
       "  </thead>\n",
       "  <tbody>\n",
       "    <tr>\n",
       "      <th>0</th>\n",
       "      <td>Abruzzo</td>\n",
       "      <td>0.89</td>\n",
       "    </tr>\n",
       "    <tr>\n",
       "      <th>1</th>\n",
       "      <td>Basilicata</td>\n",
       "      <td>0.37</td>\n",
       "    </tr>\n",
       "    <tr>\n",
       "      <th>2</th>\n",
       "      <td>Calabria</td>\n",
       "      <td>0.26</td>\n",
       "    </tr>\n",
       "    <tr>\n",
       "      <th>3</th>\n",
       "      <td>Campania</td>\n",
       "      <td>0.58</td>\n",
       "    </tr>\n",
       "    <tr>\n",
       "      <th>4</th>\n",
       "      <td>Emilia-Romagna</td>\n",
       "      <td>0.79</td>\n",
       "    </tr>\n",
       "  </tbody>\n",
       "</table>\n",
       "</div>"
      ],
      "text/plain": [
       "           region  accesses\n",
       "0         Abruzzo      0.89\n",
       "1      Basilicata      0.37\n",
       "2        Calabria      0.26\n",
       "3        Campania      0.58\n",
       "4  Emilia-Romagna      0.79"
      ]
     },
     "execution_count": 17,
     "metadata": {},
     "output_type": "execute_result"
    }
   ],
   "source": [
    "gymaccessesdf.head()"
   ]
  },
  {
   "cell_type": "markdown",
   "metadata": {},
   "source": [
    "# COSTRUZIONE DELL'INDICE DI SPORTIVITA'\n",
    "# (SPORTINESS INDEX)\n",
    "\n",
    "**MEDIA DI TUTTI GLI INDICI PRECEDENTI**\n",
    "\n",
    "6 indicatori: \n",
    "\n",
    "**accessi palestre**, \n",
    "\n",
    "**palestre per 100000 persone**, \n",
    "\n",
    "**dati google trends**,\n",
    "\n",
    "**dati squats**\n",
    "\n",
    "**dati pushups**\n",
    "\n",
    "**dati steps**"
   ]
  },
  {
   "cell_type": "code",
   "execution_count": 18,
   "metadata": {},
   "outputs": [],
   "source": [
    "#Media dei 6 indicatori\n",
    "sportiness_index = (squatsdf['squats']+stepsdf['steps']+pushupsdf['pushups']+googletrendsdf['sport']+facilitiesper100k['sport_facilities']+gymaccessesdf['accesses']) / 6\n",
    "#Arrotondo\n",
    "sportiness_index = round(sportiness_index, 2)"
   ]
  },
  {
   "cell_type": "markdown",
   "metadata": {},
   "source": [
    "**DATASET CON SPORTINESS INDEX**"
   ]
  },
  {
   "cell_type": "code",
   "execution_count": 19,
   "metadata": {},
   "outputs": [],
   "source": [
    "sportinessdf = pd.DataFrame(zip(squatsdf.region, sportiness_index))\n",
    "sportinessdf.columns = ['region','sportiness_index']"
   ]
  },
  {
   "cell_type": "code",
   "execution_count": 20,
   "metadata": {},
   "outputs": [
    {
     "data": {
      "text/html": [
       "<div>\n",
       "<style scoped>\n",
       "    .dataframe tbody tr th:only-of-type {\n",
       "        vertical-align: middle;\n",
       "    }\n",
       "\n",
       "    .dataframe tbody tr th {\n",
       "        vertical-align: top;\n",
       "    }\n",
       "\n",
       "    .dataframe thead th {\n",
       "        text-align: right;\n",
       "    }\n",
       "</style>\n",
       "<table border=\"1\" class=\"dataframe\">\n",
       "  <thead>\n",
       "    <tr style=\"text-align: right;\">\n",
       "      <th></th>\n",
       "      <th>region</th>\n",
       "      <th>sportiness_index</th>\n",
       "    </tr>\n",
       "  </thead>\n",
       "  <tbody>\n",
       "    <tr>\n",
       "      <th>0</th>\n",
       "      <td>Abruzzo</td>\n",
       "      <td>0.57</td>\n",
       "    </tr>\n",
       "    <tr>\n",
       "      <th>1</th>\n",
       "      <td>Basilicata</td>\n",
       "      <td>0.29</td>\n",
       "    </tr>\n",
       "    <tr>\n",
       "      <th>2</th>\n",
       "      <td>Calabria</td>\n",
       "      <td>0.32</td>\n",
       "    </tr>\n",
       "    <tr>\n",
       "      <th>3</th>\n",
       "      <td>Campania</td>\n",
       "      <td>0.29</td>\n",
       "    </tr>\n",
       "    <tr>\n",
       "      <th>4</th>\n",
       "      <td>Emilia-Romagna</td>\n",
       "      <td>0.61</td>\n",
       "    </tr>\n",
       "  </tbody>\n",
       "</table>\n",
       "</div>"
      ],
      "text/plain": [
       "           region  sportiness_index\n",
       "0         Abruzzo              0.57\n",
       "1      Basilicata              0.29\n",
       "2        Calabria              0.32\n",
       "3        Campania              0.29\n",
       "4  Emilia-Romagna              0.61"
      ]
     },
     "execution_count": 20,
     "metadata": {},
     "output_type": "execute_result"
    }
   ],
   "source": [
    "sportinessdf.head()"
   ]
  },
  {
   "cell_type": "markdown",
   "metadata": {},
   "source": [
    "# Dataset finale\n",
    "\n",
    "CARICO I DATI, PER OGNI REGIONE, DELLO SPORTINESS INDEX APPENA CREATO (è in scala 0-1), E DEGLI ALTRI INDICATORI (non normalizzati; quelli originali):"
   ]
  },
  {
   "cell_type": "code",
   "execution_count": 21,
   "metadata": {},
   "outputs": [],
   "source": [
    "finaldata = pd.DataFrame()\n",
    "finaldata['region'] = squatsdf['region']\n",
    "finaldata['sportiness_index'] = sportinessdf['sportiness_index']\n",
    "finaldata['steps'] = stepsdfraw['steps']\n",
    "finaldata['squats'] = squatsdfraw['squats']\n",
    "finaldata['pushups'] = pushupsdfraw['pushups']\n",
    "finaldata['gym_accesses'] = gymaccessesdf['accesses']\n",
    "finaldata['google_research'] = googletrendsdfraw['sport']\n",
    "finaldata['sport_facilities_per100k'] = facilitiesper100k['sport_facilities']"
   ]
  },
  {
   "cell_type": "code",
   "execution_count": 22,
   "metadata": {},
   "outputs": [
    {
     "data": {
      "text/html": [
       "<div>\n",
       "<style scoped>\n",
       "    .dataframe tbody tr th:only-of-type {\n",
       "        vertical-align: middle;\n",
       "    }\n",
       "\n",
       "    .dataframe tbody tr th {\n",
       "        vertical-align: top;\n",
       "    }\n",
       "\n",
       "    .dataframe thead th {\n",
       "        text-align: right;\n",
       "    }\n",
       "</style>\n",
       "<table border=\"1\" class=\"dataframe\">\n",
       "  <thead>\n",
       "    <tr style=\"text-align: right;\">\n",
       "      <th></th>\n",
       "      <th>region</th>\n",
       "      <th>sportiness_index</th>\n",
       "      <th>steps</th>\n",
       "      <th>squats</th>\n",
       "      <th>pushups</th>\n",
       "      <th>gym_accesses</th>\n",
       "      <th>google_research</th>\n",
       "      <th>sport_facilities_per100k</th>\n",
       "    </tr>\n",
       "  </thead>\n",
       "  <tbody>\n",
       "    <tr>\n",
       "      <th>0</th>\n",
       "      <td>Abruzzo</td>\n",
       "      <td>0.57</td>\n",
       "      <td>4379.75484</td>\n",
       "      <td>31.501154</td>\n",
       "      <td>16.486795</td>\n",
       "      <td>0.89</td>\n",
       "      <td>86</td>\n",
       "      <td>0.74</td>\n",
       "    </tr>\n",
       "    <tr>\n",
       "      <th>1</th>\n",
       "      <td>Basilicata</td>\n",
       "      <td>0.29</td>\n",
       "      <td>3230.39198</td>\n",
       "      <td>23.500256</td>\n",
       "      <td>12.513077</td>\n",
       "      <td>0.37</td>\n",
       "      <td>80</td>\n",
       "      <td>0.68</td>\n",
       "    </tr>\n",
       "    <tr>\n",
       "      <th>2</th>\n",
       "      <td>Calabria</td>\n",
       "      <td>0.32</td>\n",
       "      <td>3166.57721</td>\n",
       "      <td>22.501923</td>\n",
       "      <td>12.485256</td>\n",
       "      <td>0.26</td>\n",
       "      <td>82</td>\n",
       "      <td>1.00</td>\n",
       "    </tr>\n",
       "    <tr>\n",
       "      <th>3</th>\n",
       "      <td>Campania</td>\n",
       "      <td>0.29</td>\n",
       "      <td>2933.24814</td>\n",
       "      <td>21.503846</td>\n",
       "      <td>11.499359</td>\n",
       "      <td>0.58</td>\n",
       "      <td>75</td>\n",
       "      <td>0.89</td>\n",
       "    </tr>\n",
       "    <tr>\n",
       "      <th>4</th>\n",
       "      <td>Emilia-Romagna</td>\n",
       "      <td>0.61</td>\n",
       "      <td>5051.28323</td>\n",
       "      <td>36.515385</td>\n",
       "      <td>19.491410</td>\n",
       "      <td>0.79</td>\n",
       "      <td>86</td>\n",
       "      <td>0.42</td>\n",
       "    </tr>\n",
       "  </tbody>\n",
       "</table>\n",
       "</div>"
      ],
      "text/plain": [
       "           region  sportiness_index       steps     squats    pushups  \\\n",
       "0         Abruzzo              0.57  4379.75484  31.501154  16.486795   \n",
       "1      Basilicata              0.29  3230.39198  23.500256  12.513077   \n",
       "2        Calabria              0.32  3166.57721  22.501923  12.485256   \n",
       "3        Campania              0.29  2933.24814  21.503846  11.499359   \n",
       "4  Emilia-Romagna              0.61  5051.28323  36.515385  19.491410   \n",
       "\n",
       "   gym_accesses  google_research  sport_facilities_per100k  \n",
       "0          0.89               86                      0.74  \n",
       "1          0.37               80                      0.68  \n",
       "2          0.26               82                      1.00  \n",
       "3          0.58               75                      0.89  \n",
       "4          0.79               86                      0.42  "
      ]
     },
     "execution_count": 22,
     "metadata": {},
     "output_type": "execute_result"
    }
   ],
   "source": [
    "finaldata.head()"
   ]
  },
  {
   "cell_type": "code",
   "execution_count": null,
   "metadata": {},
   "outputs": [],
   "source": []
  }
 ],
 "metadata": {
  "kernelspec": {
   "display_name": "Python 3",
   "language": "python",
   "name": "python3"
  },
  "language_info": {
   "codemirror_mode": {
    "name": "ipython",
    "version": 3
   },
   "file_extension": ".py",
   "mimetype": "text/x-python",
   "name": "python",
   "nbconvert_exporter": "python",
   "pygments_lexer": "ipython3",
   "version": "3.8.3"
  }
 },
 "nbformat": 4,
 "nbformat_minor": 4
}
