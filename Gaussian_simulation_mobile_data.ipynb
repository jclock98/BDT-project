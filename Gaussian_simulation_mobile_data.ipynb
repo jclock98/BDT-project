{
 "cells": [
  {
   "cell_type": "code",
   "execution_count": 3,
   "metadata": {},
   "outputs": [],
   "source": [
    "#Loading libraries\n",
    "import pandas as pd\n",
    "import numpy as np\n",
    "import random\n",
    "import psycopg2"
   ]
  },
  {
   "cell_type": "code",
   "execution_count": 4,
   "metadata": {},
   "outputs": [],
   "source": [
    "#Loading DB with municipalities\n",
    "\n",
    "HOST=\"db-bdt.crc01ueoqr2u.eu-west-1.rds.amazonaws.com\"\n",
    "DB=\"postgres\"\n",
    "USER=\"bdtuser\"\n",
    "PASSWORD=\"BDTdatabase2022\"\n",
    "\n",
    "try:\n",
    "    conn = psycopg2.connect(\n",
    "        host=HOST,\n",
    "        database=DB,\n",
    "        user=USER,\n",
    "        password=PASSWORD)\n",
    "            \n",
    "    cur = conn.cursor()\n",
    "    \n",
    "    sql = \"SELECT * FROM municipalities AS m\"\n",
    "    cur.execute(sql)\n",
    "    prov = cur.fetchall()\n",
    "    # close communication with the database\n",
    "    cur.close()\n",
    "except (Exception, psycopg2.DatabaseError) as error:\n",
    "    print(error)\n",
    "finally:\n",
    "    if conn is not None:\n",
    "        conn.close()"
   ]
  },
  {
   "cell_type": "code",
   "execution_count": 5,
   "metadata": {},
   "outputs": [],
   "source": [
    "#Saving loaded DB as pandas DF\n",
    "comunes = pd.DataFrame(prov)\n",
    "#Naming the columns\n",
    "comunes.columns = ['comune','province','Region','population','lat_lng','istat_code','6']"
   ]
  },
  {
   "cell_type": "code",
   "execution_count": 6,
   "metadata": {},
   "outputs": [
    {
     "data": {
      "text/html": [
       "<div>\n",
       "<style scoped>\n",
       "    .dataframe tbody tr th:only-of-type {\n",
       "        vertical-align: middle;\n",
       "    }\n",
       "\n",
       "    .dataframe tbody tr th {\n",
       "        vertical-align: top;\n",
       "    }\n",
       "\n",
       "    .dataframe thead th {\n",
       "        text-align: right;\n",
       "    }\n",
       "</style>\n",
       "<table border=\"1\" class=\"dataframe\">\n",
       "  <thead>\n",
       "    <tr style=\"text-align: right;\">\n",
       "      <th></th>\n",
       "      <th>comune</th>\n",
       "      <th>province</th>\n",
       "      <th>Region</th>\n",
       "      <th>population</th>\n",
       "      <th>lat_lng</th>\n",
       "      <th>istat_code</th>\n",
       "      <th>6</th>\n",
       "    </tr>\n",
       "  </thead>\n",
       "  <tbody>\n",
       "    <tr>\n",
       "      <th>0</th>\n",
       "      <td>Andezeno</td>\n",
       "      <td>TO</td>\n",
       "      <td>Piemonte</td>\n",
       "      <td>1987.0</td>\n",
       "      <td>(45.03586095,7.86994864)</td>\n",
       "      <td>1009</td>\n",
       "      <td>0.51</td>\n",
       "    </tr>\n",
       "    <tr>\n",
       "      <th>1</th>\n",
       "      <td>Andrate</td>\n",
       "      <td>TO</td>\n",
       "      <td>Piemonte</td>\n",
       "      <td>520.0</td>\n",
       "      <td>(45.52837479,7.87383937)</td>\n",
       "      <td>1010</td>\n",
       "      <td>0.76</td>\n",
       "    </tr>\n",
       "    <tr>\n",
       "      <th>2</th>\n",
       "      <td>Angrogna</td>\n",
       "      <td>TO</td>\n",
       "      <td>Piemonte</td>\n",
       "      <td>872.0</td>\n",
       "      <td>(44.84344991,7.22429215)</td>\n",
       "      <td>1011</td>\n",
       "      <td>0.45</td>\n",
       "    </tr>\n",
       "    <tr>\n",
       "      <th>3</th>\n",
       "      <td>Arignano</td>\n",
       "      <td>TO</td>\n",
       "      <td>Piemonte</td>\n",
       "      <td>1080.0</td>\n",
       "      <td>(45.04402899,7.90244635)</td>\n",
       "      <td>1012</td>\n",
       "      <td>0.77</td>\n",
       "    </tr>\n",
       "    <tr>\n",
       "      <th>4</th>\n",
       "      <td>Avigliana</td>\n",
       "      <td>TO</td>\n",
       "      <td>Piemonte</td>\n",
       "      <td>12262.0</td>\n",
       "      <td>(45.07935742,7.39632339)</td>\n",
       "      <td>1013</td>\n",
       "      <td>0.76</td>\n",
       "    </tr>\n",
       "  </tbody>\n",
       "</table>\n",
       "</div>"
      ],
      "text/plain": [
       "      comune province    Region population                   lat_lng  \\\n",
       "0   Andezeno       TO  Piemonte     1987.0  (45.03586095,7.86994864)   \n",
       "1    Andrate       TO  Piemonte      520.0  (45.52837479,7.87383937)   \n",
       "2   Angrogna       TO  Piemonte      872.0  (44.84344991,7.22429215)   \n",
       "3   Arignano       TO  Piemonte     1080.0  (45.04402899,7.90244635)   \n",
       "4  Avigliana       TO  Piemonte    12262.0  (45.07935742,7.39632339)   \n",
       "\n",
       "   istat_code     6  \n",
       "0        1009  0.51  \n",
       "1        1010  0.76  \n",
       "2        1011  0.45  \n",
       "3        1012  0.77  \n",
       "4        1013  0.76  "
      ]
     },
     "execution_count": 6,
     "metadata": {},
     "output_type": "execute_result"
    }
   ],
   "source": [
    "comunes.head()"
   ]
  },
  {
   "cell_type": "code",
   "execution_count": 7,
   "metadata": {},
   "outputs": [],
   "source": [
    "#Loading DB with Activity Data (ISTAT-based)\n",
    "HOST=\"db-bdt.crc01ueoqr2u.eu-west-1.rds.amazonaws.com\"\n",
    "DB=\"postgres\"\n",
    "USER=\"bdtuser\"\n",
    "PASSWORD=\"BDTdatabase2022\"\n",
    "\n",
    "try:\n",
    "    conn = psycopg2.connect(\n",
    "        host=HOST,\n",
    "        database=DB,\n",
    "        user=USER,\n",
    "        password=PASSWORD)\n",
    "            \n",
    "    cur = conn.cursor()\n",
    "    \n",
    "    sql = \"SELECT * FROM sport_activity as s\"\n",
    "    cur.execute(sql)\n",
    "    prov = cur.fetchall()\n",
    "    # close communication with the database\n",
    "    cur.close()\n",
    "except (Exception, psycopg2.DatabaseError) as error:\n",
    "    print(error)\n",
    "finally:\n",
    "    if conn is not None:\n",
    "        conn.close()"
   ]
  },
  {
   "cell_type": "code",
   "execution_count": 8,
   "metadata": {},
   "outputs": [],
   "source": [
    "#Saving loaded DB as pandas DF\n",
    "activitydf = pd.DataFrame(prov)\n",
    "activitydf.columns = ['Region','score','dev_st','Daily_steps','steps_sd','Daily_pushups','pushups_sd','Daily_squats','squats_sd',\"Daily_gym\",\"Daily_gym_sd\",\"Daily_swimming\",\"Daily_swimming_sd\"]"
   ]
  },
  {
   "cell_type": "code",
   "execution_count": 9,
   "metadata": {},
   "outputs": [
    {
     "data": {
      "text/html": [
       "<div>\n",
       "<style scoped>\n",
       "    .dataframe tbody tr th:only-of-type {\n",
       "        vertical-align: middle;\n",
       "    }\n",
       "\n",
       "    .dataframe tbody tr th {\n",
       "        vertical-align: top;\n",
       "    }\n",
       "\n",
       "    .dataframe thead th {\n",
       "        text-align: right;\n",
       "    }\n",
       "</style>\n",
       "<table border=\"1\" class=\"dataframe\">\n",
       "  <thead>\n",
       "    <tr style=\"text-align: right;\">\n",
       "      <th></th>\n",
       "      <th>Region</th>\n",
       "      <th>score</th>\n",
       "      <th>dev_st</th>\n",
       "      <th>Daily_steps</th>\n",
       "      <th>steps_sd</th>\n",
       "      <th>Daily_pushups</th>\n",
       "      <th>pushups_sd</th>\n",
       "      <th>Daily_squats</th>\n",
       "      <th>squats_sd</th>\n",
       "      <th>Daily_gym</th>\n",
       "      <th>Daily_gym_sd</th>\n",
       "      <th>Daily_swimming</th>\n",
       "      <th>Daily_swimming_sd</th>\n",
       "    </tr>\n",
       "  </thead>\n",
       "  <tbody>\n",
       "    <tr>\n",
       "      <th>0</th>\n",
       "      <td>Trentino Alto Adige</td>\n",
       "      <td>0.599</td>\n",
       "      <td>0.003</td>\n",
       "      <td>6345.0</td>\n",
       "      <td>32.0</td>\n",
       "      <td>25.0</td>\n",
       "      <td>1.0</td>\n",
       "      <td>47.0</td>\n",
       "      <td>1.0</td>\n",
       "      <td>0.51</td>\n",
       "      <td>0.15</td>\n",
       "      <td>0.51</td>\n",
       "      <td>0.15</td>\n",
       "    </tr>\n",
       "    <tr>\n",
       "      <th>1</th>\n",
       "      <td>Valle d'Aosta</td>\n",
       "      <td>0.53</td>\n",
       "      <td>0.002</td>\n",
       "      <td>5614.0</td>\n",
       "      <td>21.0</td>\n",
       "      <td>22.0</td>\n",
       "      <td>1.0</td>\n",
       "      <td>41.0</td>\n",
       "      <td>1.0</td>\n",
       "      <td>0.45</td>\n",
       "      <td>0.14</td>\n",
       "      <td>0.45</td>\n",
       "      <td>0.14</td>\n",
       "    </tr>\n",
       "    <tr>\n",
       "      <th>2</th>\n",
       "      <td>Veneto</td>\n",
       "      <td>0.5005</td>\n",
       "      <td>0.012</td>\n",
       "      <td>5301.0</td>\n",
       "      <td>127.0</td>\n",
       "      <td>21.0</td>\n",
       "      <td>2.0</td>\n",
       "      <td>39.0</td>\n",
       "      <td>2.0</td>\n",
       "      <td>0.43</td>\n",
       "      <td>0.15</td>\n",
       "      <td>0.43</td>\n",
       "      <td>0.15</td>\n",
       "    </tr>\n",
       "    <tr>\n",
       "      <th>3</th>\n",
       "      <td>Lombardia</td>\n",
       "      <td>0.4965</td>\n",
       "      <td>0.009</td>\n",
       "      <td>5259.0</td>\n",
       "      <td>95.0</td>\n",
       "      <td>21.0</td>\n",
       "      <td>1.0</td>\n",
       "      <td>39.0</td>\n",
       "      <td>2.0</td>\n",
       "      <td>0.43</td>\n",
       "      <td>0.15</td>\n",
       "      <td>0.43</td>\n",
       "      <td>0.15</td>\n",
       "    </tr>\n",
       "    <tr>\n",
       "      <th>4</th>\n",
       "      <td>Emilia-Romagna</td>\n",
       "      <td>0.477</td>\n",
       "      <td>0.01</td>\n",
       "      <td>5052.0</td>\n",
       "      <td>106.0</td>\n",
       "      <td>20.0</td>\n",
       "      <td>1.0</td>\n",
       "      <td>37.0</td>\n",
       "      <td>2.0</td>\n",
       "      <td>0.41</td>\n",
       "      <td>0.15</td>\n",
       "      <td>0.41</td>\n",
       "      <td>0.15</td>\n",
       "    </tr>\n",
       "  </tbody>\n",
       "</table>\n",
       "</div>"
      ],
      "text/plain": [
       "                Region   score dev_st Daily_steps steps_sd Daily_pushups  \\\n",
       "0  Trentino Alto Adige   0.599  0.003      6345.0     32.0          25.0   \n",
       "1        Valle d'Aosta    0.53  0.002      5614.0     21.0          22.0   \n",
       "2               Veneto  0.5005  0.012      5301.0    127.0          21.0   \n",
       "3            Lombardia  0.4965  0.009      5259.0     95.0          21.0   \n",
       "4       Emilia-Romagna   0.477   0.01      5052.0    106.0          20.0   \n",
       "\n",
       "  pushups_sd Daily_squats squats_sd Daily_gym Daily_gym_sd Daily_swimming  \\\n",
       "0        1.0         47.0       1.0      0.51         0.15           0.51   \n",
       "1        1.0         41.0       1.0      0.45         0.14           0.45   \n",
       "2        2.0         39.0       2.0      0.43         0.15           0.43   \n",
       "3        1.0         39.0       2.0      0.43         0.15           0.43   \n",
       "4        1.0         37.0       2.0      0.41         0.15           0.41   \n",
       "\n",
       "  Daily_swimming_sd  \n",
       "0              0.15  \n",
       "1              0.14  \n",
       "2              0.15  \n",
       "3              0.15  \n",
       "4              0.15  "
      ]
     },
     "execution_count": 9,
     "metadata": {},
     "output_type": "execute_result"
    }
   ],
   "source": [
    "activitydf.head()"
   ]
  },
  {
   "cell_type": "code",
   "execution_count": 10,
   "metadata": {},
   "outputs": [],
   "source": [
    "#Saving data about specific activities into separated datasets\n",
    "\n",
    "#Squat data \n",
    "squats = pd.DataFrame()\n",
    "#squats['Region']=activitydf.Region\n",
    "squats['Daily_squats']=activitydf.Daily_squats\n",
    "squats['squats_sd']=activitydf.squats_sd\n",
    "\n",
    "#Pushup data\n",
    "pushups = pd.DataFrame()\n",
    "pushups['Daily_pushups'] = activitydf['Daily_pushups']\n",
    "pushups['pushups_sd'] = activitydf['pushups_sd']\n",
    "#Steps data\n",
    "steps = pd.DataFrame()\n",
    "steps['Daily_steps'] = activitydf['Daily_steps']\n",
    "steps['steps_sd'] = activitydf['steps_sd']"
   ]
  },
  {
   "cell_type": "code",
   "execution_count": 11,
   "metadata": {},
   "outputs": [],
   "source": [
    "#Associating each region with its position code\n",
    "\n",
    "codreg = dict(enumerate(activitydf.Region))"
   ]
  },
  {
   "cell_type": "code",
   "execution_count": 12,
   "metadata": {},
   "outputs": [],
   "source": [
    "#Changing name of Trentino to adapt it to the municipalities DB\n",
    "\n",
    "comunes.loc[comunes.Region=='Trentino-Alto Adige','Region'] = 'Trentino Alto Adige'"
   ]
  },
  {
   "cell_type": "markdown",
   "metadata": {},
   "source": [
    "# Gaussian simulation of data\n",
    "**STEPS, SQUATS AND PUSHUPS**"
   ]
  },
  {
   "cell_type": "code",
   "execution_count": 13,
   "metadata": {},
   "outputs": [],
   "source": [
    "#Gaussian simulation of daily steps data\n",
    "retsteps = []\n",
    "strec = steps.to_records(index=False)\n",
    "for i in range(len(strec)):\n",
    "    #regional mean\n",
    "    mu = strec[i][0]\n",
    "    #regional sd\n",
    "    sigma = strec[i][1]\n",
    "    #regional activity score to weight population\n",
    "    regscore = float(activitydf[activitydf.Region==codreg[i]]['score'])\n",
    "    ix = list()\n",
    "    #Doing it for each comune\n",
    "    popolaz = comunes[comunes.Region==codreg[i]].population\n",
    "    for popul in popolaz:\n",
    "        n_people = int(popul)*regscore\n",
    "        n_people = int(np.sqrt(n_people))\n",
    "        s = np.random.normal(mu,sigma,n_people)\n",
    "        s = s.astype(int)\n",
    "        ix.extend(s)\n",
    "    retsteps.extend(ix) #prima era .append"
   ]
  },
  {
   "cell_type": "code",
   "execution_count": 14,
   "metadata": {},
   "outputs": [],
   "source": [
    "#Comune per case\n",
    "retcomuni = []\n",
    "for i in range(len(strec)):\n",
    "    #regional activity score to weight population\n",
    "    regscore = float(activitydf[activitydf.Region==codreg[i]]['score'])\n",
    "\n",
    "    #Doing it for each comune\n",
    "    propcom = []\n",
    "    popolaz = comunes[comunes.Region==codreg[i]].population\n",
    "    #Weights of the comunes of the regions\n",
    "    wreg = []\n",
    "    for popul in popolaz:\n",
    "        n_people = int(popul)*regscore\n",
    "        n_people = int(np.sqrt(n_people))\n",
    "        propcom.append(n_people)\n",
    "    icomuni = list(comunes[comunes.Region==codreg[i]].comune)\n",
    "    for en in range(len(icomuni)):\n",
    "        comweight = [icomuni[en]]*propcom[en]\n",
    "        wreg.extend(comweight)\n",
    "        \n",
    "    #retcomuni.append(wreg)\n",
    "    retcomuni.extend(wreg)\n",
    "        \n",
    "        "
   ]
  },
  {
   "cell_type": "code",
   "execution_count": 17,
   "metadata": {},
   "outputs": [
    {
     "data": {
      "text/plain": [
       "329597"
      ]
     },
     "execution_count": 17,
     "metadata": {},
     "output_type": "execute_result"
    }
   ],
   "source": [
    "len(retsteps)"
   ]
  },
  {
   "cell_type": "code",
   "execution_count": 18,
   "metadata": {},
   "outputs": [],
   "source": [
    "#Gaussian simulation of daily squats data\n",
    "prop = 0.156/2\n",
    "retsquats = []\n",
    "sqrec = squats.to_records(index=False)\n",
    "for i in range(len(sqrec)):\n",
    "    #regional mean\n",
    "    mu = sqrec[i][0]\n",
    "    #regional sd\n",
    "    sigma = sqrec[i][1]\n",
    "    #regional activity score to weight population\n",
    "    regscore = float(activitydf[activitydf.Region==codreg[i]]['score'])\n",
    "    ix = list()\n",
    "    #Doing it for each comune\n",
    "    popolaz = comunes[comunes.Region==codreg[i]].population\n",
    "    for popul in popolaz:\n",
    "        n_people = int(popul)*regscore*prop\n",
    "        n_people = int(np.sqrt(n_people))\n",
    "        s = np.random.normal(mu,sigma,n_people)\n",
    "        s = s.astype(int)\n",
    "        ix.extend(s)\n",
    "    retsquats.extend(ix) #prima era .append"
   ]
  },
  {
   "cell_type": "code",
   "execution_count": 19,
   "metadata": {},
   "outputs": [],
   "source": [
    "#Comune per case - squats\n",
    "retcomunis = []\n",
    "for i in range(len(sqrec)):\n",
    "    #regional activity score to weight population\n",
    "    regscore = float(activitydf[activitydf.Region==codreg[i]]['score'])\n",
    "\n",
    "    #Doing it for each comune\n",
    "    propcom = []\n",
    "    popolaz = comunes[comunes.Region==codreg[i]].population\n",
    "    #Weights of the comunes of the regions\n",
    "    wreg = []\n",
    "    for popul in popolaz:\n",
    "        n_people = int(popul)*regscore*prop\n",
    "        n_people = int(np.sqrt(n_people))\n",
    "        propcom.append(n_people)\n",
    "    icomuni = list(comunes[comunes.Region==codreg[i]].comune)\n",
    "    for en in range(len(icomuni)):\n",
    "        comweight = [icomuni[en]]*propcom[en]\n",
    "        wreg.extend(comweight)\n",
    "        \n",
    "    #retcomuni.append(wreg)\n",
    "    retcomunis.extend(wreg)\n",
    "        "
   ]
  },
  {
   "cell_type": "code",
   "execution_count": 20,
   "metadata": {},
   "outputs": [],
   "source": [
    "#Gaussian simulation of daily pushups data\n",
    "prop = 0.156/2\n",
    "retpushups = []\n",
    "purec = pushups.to_records(index=False)\n",
    "for i in range(len(sqrec)):\n",
    "    #regional mean\n",
    "    mu = purec[i][0]\n",
    "    #regional sd\n",
    "    sigma = purec[i][1]\n",
    "    #regional activity score to weight population\n",
    "    regscore = float(activitydf[activitydf.Region==codreg[i]]['score'])\n",
    "    ix = list()\n",
    "    #Doing it for each comune\n",
    "    popolaz = comunes[comunes.Region==codreg[i]].population\n",
    "    for popul in popolaz:\n",
    "        n_people = int(popul)*regscore*prop\n",
    "        n_people = int(np.sqrt(n_people))\n",
    "        s = np.random.normal(mu,sigma,n_people)\n",
    "        s = s.astype(int)\n",
    "        ix.extend(s)\n",
    "    retpushups.extend(ix) #prima era .append"
   ]
  },
  {
   "cell_type": "code",
   "execution_count": 21,
   "metadata": {},
   "outputs": [],
   "source": [
    "#Generating conventional device IDs\n",
    "idsteps = [\"D_\"+str(i) for i in range(len(retsteps))]"
   ]
  },
  {
   "cell_type": "code",
   "execution_count": 22,
   "metadata": {},
   "outputs": [],
   "source": [
    "#Generating conventional device IDs\n",
    "idsquats = [\"D_\"+str(i) for i in range(len(retsquats))]\n",
    "idspushups = [\"D_\"+str(i) for i in range(len(retpushups))]"
   ]
  },
  {
   "cell_type": "code",
   "execution_count": 23,
   "metadata": {},
   "outputs": [],
   "source": [
    "stepsdailylogs = list(zip(idsteps,retsteps,retcomuni))\n",
    "np.random.shuffle(stepsdailylogs)"
   ]
  },
  {
   "cell_type": "code",
   "execution_count": 24,
   "metadata": {},
   "outputs": [],
   "source": [
    "squatsdailylogs = list(zip(idsquats,retsquats,retcomunis))\n",
    "np.random.shuffle(squatsdailylogs)"
   ]
  },
  {
   "cell_type": "code",
   "execution_count": 25,
   "metadata": {},
   "outputs": [],
   "source": [
    "pushupsdailylogs = list(zip(idspushups,retpushups,retcomunis))\n",
    "np.random.shuffle(pushupsdailylogs)"
   ]
  },
  {
   "cell_type": "code",
   "execution_count": 26,
   "metadata": {},
   "outputs": [
    {
     "data": {
      "text/plain": [
       "[('D_61780', 17, 'Città di Castello'),\n",
       " ('D_16908', 19, 'Inveruno'),\n",
       " ('D_54399', 19, 'Piandimeleto'),\n",
       " ('D_43623', 15, 'Cosseria'),\n",
       " ('D_35884', 19, 'Fosdinovo'),\n",
       " ('D_76876', 13, 'Bovalino'),\n",
       " ('D_66291', 16, 'Baunei'),\n",
       " ('D_4752', 23, 'Veronella'),\n",
       " ('D_56136', 17, 'Monteprandone'),\n",
       " ('D_27378', 19, 'Barzanò'),\n",
       " ('D_57754', 19, 'Turania'),\n",
       " ('D_30764', 18, 'Fontevivo')]"
      ]
     },
     "execution_count": 26,
     "metadata": {},
     "output_type": "execute_result"
    }
   ],
   "source": [
    "pushupsdailylogs[29:41]"
   ]
  },
  {
   "cell_type": "markdown",
   "metadata": {},
   "source": [
    "# Definition of JSON with simulated steps"
   ]
  },
  {
   "cell_type": "code",
   "execution_count": 27,
   "metadata": {},
   "outputs": [],
   "source": [
    "#Generating the list that will become a JSON FILE\n",
    "jsonlisteps = []\n",
    "for (x,y,z) in stepsdailylogs:\n",
    "    dic = {}\n",
    "    dic['id'] = x\n",
    "    dic['steps'] = y\n",
    "    dic['lat'] = \"\"\n",
    "    dic['lng'] = \"\"\n",
    "    dic['comune'] = z\n",
    "    jsonlisteps.append(dic)"
   ]
  },
  {
   "cell_type": "code",
   "execution_count": 30,
   "metadata": {
    "scrolled": false
   },
   "outputs": [
    {
     "data": {
      "text/plain": [
       "329597"
      ]
     },
     "execution_count": 30,
     "metadata": {},
     "output_type": "execute_result"
    }
   ],
   "source": [
    "len(jsonlisteps)"
   ]
  },
  {
   "cell_type": "markdown",
   "metadata": {},
   "source": [
    "   # Definition of JSON with simulated squats"
   ]
  },
  {
   "cell_type": "code",
   "execution_count": 92,
   "metadata": {},
   "outputs": [],
   "source": [
    "#Generating the list that will become a JSON FILE\n",
    "jsonlisquats = []\n",
    "for (x,y,z) in squatsdailylogs:\n",
    "    dic = {}\n",
    "    dic['id'] = x\n",
    "    dic['squats'] = y\n",
    "    dic['lat'] = \"\"\n",
    "    dic['lng'] = \"\"\n",
    "    dic['comune'] = z\n",
    "    jsonlisquats.append(dic)"
   ]
  },
  {
   "cell_type": "code",
   "execution_count": 93,
   "metadata": {},
   "outputs": [
    {
     "data": {
      "text/plain": [
       "[{'id': 'D_1725983',\n",
       "  'squats': 22,\n",
       "  'lat': '',\n",
       "  'lng': '',\n",
       "  'comune': 'Altofonte'},\n",
       " {'id': 'D_1832128', 'squats': 21, 'lat': '', 'lng': '', 'comune': 'Caserta'},\n",
       " {'id': 'D_803015', 'squats': 36, 'lat': '', 'lng': '', 'comune': 'Stazzema'},\n",
       " {'id': 'D_1365029', 'squats': 36, 'lat': '', 'lng': '', 'comune': 'Tivoli'},\n",
       " {'id': 'D_529310', 'squats': 39, 'lat': '', 'lng': '', 'comune': 'Siziano'}]"
      ]
     },
     "execution_count": 93,
     "metadata": {},
     "output_type": "execute_result"
    }
   ],
   "source": [
    "jsonlisquats[:5]"
   ]
  },
  {
   "cell_type": "code",
   "execution_count": 86,
   "metadata": {},
   "outputs": [
    {
     "data": {
      "text/plain": [
       "1951017"
      ]
     },
     "execution_count": 86,
     "metadata": {},
     "output_type": "execute_result"
    }
   ],
   "source": [
    "len(jsonlisquats)"
   ]
  },
  {
   "cell_type": "markdown",
   "metadata": {},
   "source": [
    "  # Definition of JSON with simulated pushups"
   ]
  },
  {
   "cell_type": "code",
   "execution_count": 90,
   "metadata": {},
   "outputs": [],
   "source": [
    "#Generating the list that will become a JSON FILE\n",
    "jsonlispushups = []\n",
    "for (x,y,z) in pushupsdailylogs:\n",
    "    dic = {}\n",
    "    dic['id'] = x\n",
    "    dic['pushups'] = y\n",
    "    dic['lat'] = \"\"\n",
    "    dic['lng'] = \"\"\n",
    "    dic['comune'] = z\n",
    "    jsonlispushups.append(dic)"
   ]
  },
  {
   "cell_type": "code",
   "execution_count": 91,
   "metadata": {},
   "outputs": [
    {
     "data": {
      "text/plain": [
       "[{'id': 'D_1305331', 'pushups': 19, 'lat': '', 'lng': '', 'comune': 'Roma'},\n",
       " {'id': 'D_426504', 'pushups': 19, 'lat': '', 'lng': '', 'comune': 'Albino'},\n",
       " {'id': 'D_1419114',\n",
       "  'pushups': 17,\n",
       "  'lat': '',\n",
       "  'lng': '',\n",
       "  'comune': 'Corciano'},\n",
       " {'id': 'D_1141039',\n",
       "  'pushups': 19,\n",
       "  'lat': '',\n",
       "  'lng': '',\n",
       "  'comune': 'San Marzano Oliveto'},\n",
       " {'id': 'D_770619',\n",
       "  'pushups': 19,\n",
       "  'lat': '',\n",
       "  'lng': '',\n",
       "  'comune': 'Santa Sofia'}]"
      ]
     },
     "execution_count": 91,
     "metadata": {},
     "output_type": "execute_result"
    }
   ],
   "source": [
    "jsonlispushups[:5]"
   ]
  },
  {
   "cell_type": "markdown",
   "metadata": {},
   "source": [
    "# Saving CSVs to do a trial in R"
   ]
  },
  {
   "cell_type": "code",
   "execution_count": 99,
   "metadata": {},
   "outputs": [],
   "source": [
    "datasteps = pd.DataFrame(jsonlisteps)\n",
    "stepsaggregated = datasteps.groupby('comune').mean()"
   ]
  },
  {
   "cell_type": "code",
   "execution_count": 98,
   "metadata": {},
   "outputs": [
    {
     "data": {
      "text/html": [
       "<div>\n",
       "<style scoped>\n",
       "    .dataframe tbody tr th:only-of-type {\n",
       "        vertical-align: middle;\n",
       "    }\n",
       "\n",
       "    .dataframe tbody tr th {\n",
       "        vertical-align: top;\n",
       "    }\n",
       "\n",
       "    .dataframe thead th {\n",
       "        text-align: right;\n",
       "    }\n",
       "</style>\n",
       "<table border=\"1\" class=\"dataframe\">\n",
       "  <thead>\n",
       "    <tr style=\"text-align: right;\">\n",
       "      <th></th>\n",
       "      <th>id</th>\n",
       "      <th>steps</th>\n",
       "      <th>lat</th>\n",
       "      <th>lng</th>\n",
       "      <th>comune</th>\n",
       "    </tr>\n",
       "  </thead>\n",
       "  <tbody>\n",
       "    <tr>\n",
       "      <th>0</th>\n",
       "      <td>D_15120317</td>\n",
       "      <td>4622</td>\n",
       "      <td></td>\n",
       "      <td></td>\n",
       "      <td>Pesaro</td>\n",
       "    </tr>\n",
       "    <tr>\n",
       "      <th>1</th>\n",
       "      <td>D_5031805</td>\n",
       "      <td>5258</td>\n",
       "      <td></td>\n",
       "      <td></td>\n",
       "      <td>Milano</td>\n",
       "    </tr>\n",
       "    <tr>\n",
       "      <th>2</th>\n",
       "      <td>D_1382762</td>\n",
       "      <td>5037</td>\n",
       "      <td></td>\n",
       "      <td></td>\n",
       "      <td>Pove del Grappa</td>\n",
       "    </tr>\n",
       "    <tr>\n",
       "      <th>3</th>\n",
       "      <td>D_16891482</td>\n",
       "      <td>4440</td>\n",
       "      <td></td>\n",
       "      <td></td>\n",
       "      <td>Roma</td>\n",
       "    </tr>\n",
       "    <tr>\n",
       "      <th>4</th>\n",
       "      <td>D_23766798</td>\n",
       "      <td>2969</td>\n",
       "      <td></td>\n",
       "      <td></td>\n",
       "      <td>Puglianello</td>\n",
       "    </tr>\n",
       "    <tr>\n",
       "      <th>...</th>\n",
       "      <td>...</td>\n",
       "      <td>...</td>\n",
       "      <td>...</td>\n",
       "      <td>...</td>\n",
       "      <td>...</td>\n",
       "    </tr>\n",
       "    <tr>\n",
       "      <th>25059468</th>\n",
       "      <td>D_4197358</td>\n",
       "      <td>5307</td>\n",
       "      <td></td>\n",
       "      <td></td>\n",
       "      <td>Cologno Monzese</td>\n",
       "    </tr>\n",
       "    <tr>\n",
       "      <th>25059469</th>\n",
       "      <td>D_22765367</td>\n",
       "      <td>3077</td>\n",
       "      <td></td>\n",
       "      <td></td>\n",
       "      <td>Licata</td>\n",
       "    </tr>\n",
       "    <tr>\n",
       "      <th>25059470</th>\n",
       "      <td>D_22670206</td>\n",
       "      <td>3010</td>\n",
       "      <td></td>\n",
       "      <td></td>\n",
       "      <td>Sant'Agata di Militello</td>\n",
       "    </tr>\n",
       "    <tr>\n",
       "      <th>25059471</th>\n",
       "      <td>D_1043990</td>\n",
       "      <td>5184</td>\n",
       "      <td></td>\n",
       "      <td></td>\n",
       "      <td>Verona</td>\n",
       "    </tr>\n",
       "    <tr>\n",
       "      <th>25059472</th>\n",
       "      <td>D_3313599</td>\n",
       "      <td>5387</td>\n",
       "      <td></td>\n",
       "      <td></td>\n",
       "      <td>Gallarate</td>\n",
       "    </tr>\n",
       "  </tbody>\n",
       "</table>\n",
       "<p>25059473 rows × 5 columns</p>\n",
       "</div>"
      ],
      "text/plain": [
       "                  id  steps lat lng                   comune\n",
       "0         D_15120317   4622                           Pesaro\n",
       "1          D_5031805   5258                           Milano\n",
       "2          D_1382762   5037                  Pove del Grappa\n",
       "3         D_16891482   4440                             Roma\n",
       "4         D_23766798   2969                      Puglianello\n",
       "...              ...    ...  ..  ..                      ...\n",
       "25059468   D_4197358   5307                  Cologno Monzese\n",
       "25059469  D_22765367   3077                           Licata\n",
       "25059470  D_22670206   3010          Sant'Agata di Militello\n",
       "25059471   D_1043990   5184                           Verona\n",
       "25059472   D_3313599   5387                        Gallarate\n",
       "\n",
       "[25059473 rows x 5 columns]"
      ]
     },
     "execution_count": 98,
     "metadata": {},
     "output_type": "execute_result"
    }
   ],
   "source": [
    "datasteps"
   ]
  },
  {
   "cell_type": "code",
   "execution_count": null,
   "metadata": {},
   "outputs": [],
   "source": [
    "datasquats = pd.DataFrame(jsonlisquats)\n",
    "squatsaggregated = datasquats.groupby('comune').mean()"
   ]
  },
  {
   "cell_type": "code",
   "execution_count": null,
   "metadata": {},
   "outputs": [],
   "source": [
    "datapushups = pd.DataFrame(jsonlispushups)\n",
    "pushupsaggregated = datapushups.groupby('comune').mean()"
   ]
  },
  {
   "cell_type": "code",
   "execution_count": null,
   "metadata": {},
   "outputs": [],
   "source": [
    "stepsaggregated.to_csv(\"stepsaggregated.csv\")\n",
    "squatsaggregated.to_csv(\"squatsaggregated.csv\")\n",
    "pushupsaggregated.to_csv(\"pushupsaggregated.csv\")"
   ]
  },
  {
   "cell_type": "code",
   "execution_count": null,
   "metadata": {},
   "outputs": [],
   "source": []
  }
 ],
 "metadata": {
  "kernelspec": {
   "display_name": "Python 3",
   "language": "python",
   "name": "python3"
  },
  "language_info": {
   "codemirror_mode": {
    "name": "ipython",
    "version": 3
   },
   "file_extension": ".py",
   "mimetype": "text/x-python",
   "name": "python",
   "nbconvert_exporter": "python",
   "pygments_lexer": "ipython3",
   "version": "3.8.3"
  }
 },
 "nbformat": 4,
 "nbformat_minor": 4
}
